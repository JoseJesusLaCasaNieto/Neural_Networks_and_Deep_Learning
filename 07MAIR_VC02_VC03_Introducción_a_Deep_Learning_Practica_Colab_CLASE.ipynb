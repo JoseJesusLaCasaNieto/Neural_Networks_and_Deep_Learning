{
  "nbformat": 4,
  "nbformat_minor": 0,
  "metadata": {
    "colab": {
      "provenance": []
    },
    "kernelspec": {
      "name": "python3",
      "display_name": "Python 3"
    },
    "accelerator": "GPU"
  },
  "cells": [
    {
      "cell_type": "markdown",
      "metadata": {
        "id": "e-Xr73DZ8CGE"
      },
      "source": [
        "## **NUESTRA PRIMERA RED NEURONAL: MNIST DATASET**"
      ]
    },
    {
      "cell_type": "code",
      "metadata": {
        "id": "AMjhP1vDde1e",
        "colab": {
          "base_uri": "https://localhost:8080/"
        },
        "outputId": "0e6dec15-12ab-4f79-8615-7e4e0cbe001c"
      },
      "source": [
        "!pip freeze"
      ],
      "execution_count": 1,
      "outputs": [
        {
          "output_type": "stream",
          "name": "stdout",
          "text": [
            "absl-py==1.4.0\n",
            "aiohttp==3.9.3\n",
            "aiosignal==1.3.1\n",
            "alabaster==0.7.16\n",
            "albumentations==1.3.1\n",
            "altair==4.2.2\n",
            "annotated-types==0.6.0\n",
            "anyio==3.7.1\n",
            "appdirs==1.4.4\n",
            "argon2-cffi==23.1.0\n",
            "argon2-cffi-bindings==21.2.0\n",
            "array-record==0.5.0\n",
            "arviz==0.15.1\n",
            "astropy==5.3.4\n",
            "astunparse==1.6.3\n",
            "async-timeout==4.0.3\n",
            "atpublic==4.0\n",
            "attrs==23.2.0\n",
            "audioread==3.0.1\n",
            "autograd==1.6.2\n",
            "Babel==2.14.0\n",
            "backcall==0.2.0\n",
            "beautifulsoup4==4.12.3\n",
            "bidict==0.23.1\n",
            "bigframes==0.22.0\n",
            "bleach==6.1.0\n",
            "blinker==1.4\n",
            "blis==0.7.11\n",
            "blosc2==2.0.0\n",
            "bokeh==3.3.4\n",
            "bqplot==0.12.43\n",
            "branca==0.7.1\n",
            "build==1.1.1\n",
            "CacheControl==0.14.0\n",
            "cachetools==5.3.3\n",
            "catalogue==2.0.10\n",
            "certifi==2024.2.2\n",
            "cffi==1.16.0\n",
            "chardet==5.2.0\n",
            "charset-normalizer==3.3.2\n",
            "chex==0.1.85\n",
            "click==8.1.7\n",
            "click-plugins==1.1.1\n",
            "cligj==0.7.2\n",
            "cloudpathlib==0.16.0\n",
            "cloudpickle==2.2.1\n",
            "cmake==3.27.9\n",
            "cmdstanpy==1.2.1\n",
            "colorcet==3.1.0\n",
            "colorlover==0.3.0\n",
            "colour==0.1.5\n",
            "community==1.0.0b1\n",
            "confection==0.1.4\n",
            "cons==0.4.6\n",
            "contextlib2==21.6.0\n",
            "contourpy==1.2.0\n",
            "cryptography==42.0.5\n",
            "cufflinks==0.17.3\n",
            "cupy-cuda12x==12.2.0\n",
            "cvxopt==1.3.2\n",
            "cvxpy==1.3.3\n",
            "cycler==0.12.1\n",
            "cymem==2.0.8\n",
            "Cython==3.0.8\n",
            "dask==2023.8.1\n",
            "datascience==0.17.6\n",
            "db-dtypes==1.2.0\n",
            "dbus-python==1.2.18\n",
            "debugpy==1.6.6\n",
            "decorator==4.4.2\n",
            "defusedxml==0.7.1\n",
            "distributed==2023.8.1\n",
            "distro==1.7.0\n",
            "dlib==19.24.2\n",
            "dm-tree==0.1.8\n",
            "docutils==0.18.1\n",
            "dopamine-rl==4.0.6\n",
            "duckdb==0.9.2\n",
            "earthengine-api==0.1.392\n",
            "easydict==1.13\n",
            "ecos==2.0.13\n",
            "editdistance==0.6.2\n",
            "eerepr==0.0.4\n",
            "en-core-web-sm @ https://github.com/explosion/spacy-models/releases/download/en_core_web_sm-3.7.1/en_core_web_sm-3.7.1-py3-none-any.whl#sha256=86cc141f63942d4b2c5fcee06630fd6f904788d2f0ab005cce45aadb8fb73889\n",
            "entrypoints==0.4\n",
            "et-xmlfile==1.1.0\n",
            "etils==1.7.0\n",
            "etuples==0.3.9\n",
            "exceptiongroup==1.2.0\n",
            "fastai==2.7.14\n",
            "fastcore==1.5.29\n",
            "fastdownload==0.0.7\n",
            "fastjsonschema==2.19.1\n",
            "fastprogress==1.0.3\n",
            "fastrlock==0.8.2\n",
            "filelock==3.13.1\n",
            "fiona==1.9.5\n",
            "firebase-admin==5.3.0\n",
            "Flask==2.2.5\n",
            "flatbuffers==23.5.26\n",
            "flax==0.8.1\n",
            "folium==0.14.0\n",
            "fonttools==4.49.0\n",
            "frozendict==2.4.0\n",
            "frozenlist==1.4.1\n",
            "fsspec==2023.6.0\n",
            "future==0.18.3\n",
            "gast==0.5.4\n",
            "gcsfs==2023.6.0\n",
            "GDAL==3.6.4\n",
            "gdown==4.7.3\n",
            "geemap==0.32.0\n",
            "gensim==4.3.2\n",
            "geocoder==1.38.1\n",
            "geographiclib==2.0\n",
            "geopandas==0.13.2\n",
            "geopy==2.3.0\n",
            "gin-config==0.5.0\n",
            "glob2==0.7\n",
            "google==2.0.3\n",
            "google-ai-generativelanguage==0.4.0\n",
            "google-api-core==2.11.1\n",
            "google-api-python-client==2.84.0\n",
            "google-auth==2.27.0\n",
            "google-auth-httplib2==0.1.1\n",
            "google-auth-oauthlib==1.2.0\n",
            "google-cloud-aiplatform==1.43.0\n",
            "google-cloud-bigquery==3.12.0\n",
            "google-cloud-bigquery-connection==1.12.1\n",
            "google-cloud-bigquery-storage==2.24.0\n",
            "google-cloud-core==2.3.3\n",
            "google-cloud-datastore==2.15.2\n",
            "google-cloud-firestore==2.11.1\n",
            "google-cloud-functions==1.13.3\n",
            "google-cloud-iam==2.14.2\n",
            "google-cloud-language==2.13.2\n",
            "google-cloud-resource-manager==1.12.2\n",
            "google-cloud-storage==2.8.0\n",
            "google-cloud-translate==3.11.3\n",
            "google-colab @ file:///colabtools/dist/google-colab-1.0.0.tar.gz#sha256=e99a7de85ff885c4e83bf06bcbef33daf659d1a7b6dadfc8cf243db60083680e\n",
            "google-crc32c==1.5.0\n",
            "google-generativeai==0.3.2\n",
            "google-pasta==0.2.0\n",
            "google-resumable-media==2.7.0\n",
            "googleapis-common-protos==1.62.0\n",
            "googledrivedownloader==0.4\n",
            "graphviz==0.20.1\n",
            "greenlet==3.0.3\n",
            "grpc-google-iam-v1==0.13.0\n",
            "grpcio==1.62.0\n",
            "grpcio-status==1.48.2\n",
            "gspread==3.4.2\n",
            "gspread-dataframe==3.3.1\n",
            "gym==0.25.2\n",
            "gym-notices==0.0.8\n",
            "h5netcdf==1.3.0\n",
            "h5py==3.9.0\n",
            "holidays==0.44\n",
            "holoviews==1.17.1\n",
            "html5lib==1.1\n",
            "httpimport==1.3.1\n",
            "httplib2==0.22.0\n",
            "huggingface-hub==0.20.3\n",
            "humanize==4.7.0\n",
            "hyperopt==0.2.7\n",
            "ibis-framework==7.1.0\n",
            "idna==3.6\n",
            "imageio==2.31.6\n",
            "imageio-ffmpeg==0.4.9\n",
            "imagesize==1.4.1\n",
            "imbalanced-learn==0.10.1\n",
            "imgaug==0.4.0\n",
            "importlib-metadata==7.0.1\n",
            "importlib_resources==6.1.2\n",
            "imutils==0.5.4\n",
            "inflect==7.0.0\n",
            "iniconfig==2.0.0\n",
            "intel-openmp==2023.2.3\n",
            "ipyevents==2.0.2\n",
            "ipyfilechooser==0.6.0\n",
            "ipykernel==5.5.6\n",
            "ipyleaflet==0.18.2\n",
            "ipython==7.34.0\n",
            "ipython-genutils==0.2.0\n",
            "ipython-sql==0.5.0\n",
            "ipytree==0.2.2\n",
            "ipywidgets==7.7.1\n",
            "itsdangerous==2.1.2\n",
            "jax==0.4.23\n",
            "jaxlib @ https://storage.googleapis.com/jax-releases/cuda12/jaxlib-0.4.23+cuda12.cudnn89-cp310-cp310-manylinux2014_x86_64.whl#sha256=8e42000672599e7ec0ea7f551acfcc95dcdd0e22b05a1d1f12f97b56a9fce4a8\n",
            "jeepney==0.7.1\n",
            "jieba==0.42.1\n",
            "Jinja2==3.1.3\n",
            "joblib==1.3.2\n",
            "jsonpickle==3.0.3\n",
            "jsonschema==4.19.2\n",
            "jsonschema-specifications==2023.12.1\n",
            "jupyter-client==6.1.12\n",
            "jupyter-console==6.1.0\n",
            "jupyter-server==1.24.0\n",
            "jupyter_core==5.7.1\n",
            "jupyterlab_pygments==0.3.0\n",
            "jupyterlab_widgets==3.0.10\n",
            "kaggle==1.5.16\n",
            "kagglehub==0.1.9\n",
            "keras==2.15.0\n",
            "keyring==23.5.0\n",
            "kiwisolver==1.4.5\n",
            "langcodes==3.3.0\n",
            "launchpadlib==1.10.16\n",
            "lazr.restfulclient==0.14.4\n",
            "lazr.uri==1.0.6\n",
            "lazy_loader==0.3\n",
            "libclang==16.0.6\n",
            "librosa==0.10.1\n",
            "lightgbm==4.1.0\n",
            "linkify-it-py==2.0.3\n",
            "llvmlite==0.41.1\n",
            "locket==1.0.0\n",
            "logical-unification==0.4.6\n",
            "lxml==4.9.4\n",
            "malloy==2023.1067\n",
            "Markdown==3.5.2\n",
            "markdown-it-py==3.0.0\n",
            "MarkupSafe==2.1.5\n",
            "matplotlib==3.7.1\n",
            "matplotlib-inline==0.1.6\n",
            "matplotlib-venn==0.11.10\n",
            "mdit-py-plugins==0.4.0\n",
            "mdurl==0.1.2\n",
            "miniKanren==1.0.3\n",
            "missingno==0.5.2\n",
            "mistune==0.8.4\n",
            "mizani==0.9.3\n",
            "mkl==2023.2.0\n",
            "ml-dtypes==0.2.0\n",
            "mlxtend==0.22.0\n",
            "more-itertools==10.1.0\n",
            "moviepy==1.0.3\n",
            "mpmath==1.3.0\n",
            "msgpack==1.0.8\n",
            "multidict==6.0.5\n",
            "multipledispatch==1.0.0\n",
            "multitasking==0.0.11\n",
            "murmurhash==1.0.10\n",
            "music21==9.1.0\n",
            "natsort==8.4.0\n",
            "nbclassic==1.0.0\n",
            "nbclient==0.9.0\n",
            "nbconvert==6.5.4\n",
            "nbformat==5.9.2\n",
            "nest-asyncio==1.6.0\n",
            "networkx==3.2.1\n",
            "nibabel==4.0.2\n",
            "nltk==3.8.1\n",
            "notebook==6.5.5\n",
            "notebook_shim==0.2.4\n",
            "numba==0.58.1\n",
            "numexpr==2.9.0\n",
            "numpy==1.25.2\n",
            "oauth2client==4.1.3\n",
            "oauthlib==3.2.2\n",
            "opencv-contrib-python==4.8.0.76\n",
            "opencv-python==4.8.0.76\n",
            "opencv-python-headless==4.9.0.80\n",
            "openpyxl==3.1.2\n",
            "opt-einsum==3.3.0\n",
            "optax==0.1.9\n",
            "orbax-checkpoint==0.4.4\n",
            "osqp==0.6.2.post8\n",
            "packaging==23.2\n",
            "pandas==1.5.3\n",
            "pandas-datareader==0.10.0\n",
            "pandas-gbq==0.19.2\n",
            "pandas-stubs==1.5.3.230304\n",
            "pandocfilters==1.5.1\n",
            "panel==1.3.8\n",
            "param==2.0.2\n",
            "parso==0.8.3\n",
            "parsy==2.1\n",
            "partd==1.4.1\n",
            "pathlib==1.0.1\n",
            "patsy==0.5.6\n",
            "peewee==3.17.1\n",
            "pexpect==4.9.0\n",
            "pickleshare==0.7.5\n",
            "Pillow==9.4.0\n",
            "pins==0.8.4\n",
            "pip-tools==6.13.0\n",
            "platformdirs==4.2.0\n",
            "plotly==5.15.0\n",
            "plotnine==0.12.4\n",
            "pluggy==1.4.0\n",
            "polars==0.20.2\n",
            "pooch==1.8.1\n",
            "portpicker==1.5.2\n",
            "prefetch-generator==1.0.3\n",
            "preshed==3.0.9\n",
            "prettytable==3.10.0\n",
            "proglog==0.1.10\n",
            "progressbar2==4.2.0\n",
            "prometheus_client==0.20.0\n",
            "promise==2.3\n",
            "prompt-toolkit==3.0.43\n",
            "prophet==1.1.5\n",
            "proto-plus==1.23.0\n",
            "protobuf==3.20.3\n",
            "psutil==5.9.5\n",
            "psycopg2==2.9.9\n",
            "ptyprocess==0.7.0\n",
            "py-cpuinfo==9.0.0\n",
            "py4j==0.10.9.7\n",
            "pyarrow==14.0.2\n",
            "pyarrow-hotfix==0.6\n",
            "pyasn1==0.5.1\n",
            "pyasn1-modules==0.3.0\n",
            "pycocotools==2.0.7\n",
            "pycparser==2.21\n",
            "pydantic==2.6.3\n",
            "pydantic_core==2.16.3\n",
            "pydata-google-auth==1.8.2\n",
            "pydot==1.4.2\n",
            "pydot-ng==2.0.0\n",
            "pydotplus==2.0.2\n",
            "PyDrive==1.3.1\n",
            "PyDrive2==1.6.3\n",
            "pyerfa==2.0.1.1\n",
            "pygame==2.5.2\n",
            "Pygments==2.16.1\n",
            "PyGObject==3.42.1\n",
            "PyJWT==2.3.0\n",
            "pymc==5.10.4\n",
            "pymystem3==0.2.0\n",
            "PyOpenGL==3.1.7\n",
            "pyOpenSSL==24.0.0\n",
            "pyparsing==3.1.1\n",
            "pyperclip==1.8.2\n",
            "pyproj==3.6.1\n",
            "pyproject_hooks==1.0.0\n",
            "pyshp==2.3.1\n",
            "PySocks==1.7.1\n",
            "pytensor==2.18.6\n",
            "pytest==7.4.4\n",
            "python-apt @ file:///backend-container/containers/python_apt-0.0.0-cp310-cp310-linux_x86_64.whl#sha256=b209c7165d6061963abe611492f8c91c3bcef4b7a6600f966bab58900c63fefa\n",
            "python-box==7.1.1\n",
            "python-dateutil==2.8.2\n",
            "python-louvain==0.16\n",
            "python-slugify==8.0.4\n",
            "python-utils==3.8.2\n",
            "pytz==2023.4\n",
            "pyviz_comms==3.0.1\n",
            "PyWavelets==1.5.0\n",
            "PyYAML==6.0.1\n",
            "pyzmq==23.2.1\n",
            "qdldl==0.1.7.post0\n",
            "qudida==0.0.4\n",
            "ratelim==0.1.6\n",
            "referencing==0.33.0\n",
            "regex==2023.12.25\n",
            "requests==2.31.0\n",
            "requests-oauthlib==1.3.1\n",
            "requirements-parser==0.5.0\n",
            "rich==13.7.1\n",
            "rpds-py==0.18.0\n",
            "rpy2==3.4.2\n",
            "rsa==4.9\n",
            "safetensors==0.4.2\n",
            "scikit-image==0.19.3\n",
            "scikit-learn==1.2.2\n",
            "scipy==1.11.4\n",
            "scooby==0.9.2\n",
            "scs==3.2.4.post1\n",
            "seaborn==0.13.1\n",
            "SecretStorage==3.3.1\n",
            "Send2Trash==1.8.2\n",
            "sentencepiece==0.1.99\n",
            "shapely==2.0.3\n",
            "six==1.16.0\n",
            "sklearn-pandas==2.2.0\n",
            "smart-open==6.4.0\n",
            "sniffio==1.3.1\n",
            "snowballstemmer==2.2.0\n",
            "sortedcontainers==2.4.0\n",
            "soundfile==0.12.1\n",
            "soupsieve==2.5\n",
            "soxr==0.3.7\n",
            "spacy==3.7.4\n",
            "spacy-legacy==3.0.12\n",
            "spacy-loggers==1.0.5\n",
            "Sphinx==5.0.2\n",
            "sphinxcontrib-applehelp==1.0.8\n",
            "sphinxcontrib-devhelp==1.0.6\n",
            "sphinxcontrib-htmlhelp==2.0.5\n",
            "sphinxcontrib-jsmath==1.0.1\n",
            "sphinxcontrib-qthelp==1.0.7\n",
            "sphinxcontrib-serializinghtml==1.1.10\n",
            "SQLAlchemy==2.0.28\n",
            "sqlglot==19.9.0\n",
            "sqlparse==0.4.4\n",
            "srsly==2.4.8\n",
            "stanio==0.3.0\n",
            "statsmodels==0.14.1\n",
            "sympy==1.12\n",
            "tables==3.8.0\n",
            "tabulate==0.9.0\n",
            "tbb==2021.11.0\n",
            "tblib==3.0.0\n",
            "tenacity==8.2.3\n",
            "tensorboard==2.15.2\n",
            "tensorboard-data-server==0.7.2\n",
            "tensorflow==2.15.0\n",
            "tensorflow-datasets==4.9.4\n",
            "tensorflow-estimator==2.15.0\n",
            "tensorflow-gcs-config==2.15.0\n",
            "tensorflow-hub==0.16.1\n",
            "tensorflow-io-gcs-filesystem==0.36.0\n",
            "tensorflow-metadata==1.14.0\n",
            "tensorflow-probability==0.23.0\n",
            "tensorstore==0.1.45\n",
            "termcolor==2.4.0\n",
            "terminado==0.18.0\n",
            "text-unidecode==1.3\n",
            "textblob==0.17.1\n",
            "tf-keras==2.15.0\n",
            "tf-slim==1.1.0\n",
            "thinc==8.2.3\n",
            "threadpoolctl==3.3.0\n",
            "tifffile==2024.2.12\n",
            "tinycss2==1.2.1\n",
            "tokenizers==0.15.2\n",
            "toml==0.10.2\n",
            "tomli==2.0.1\n",
            "toolz==0.12.1\n",
            "torch @ https://download.pytorch.org/whl/cu121/torch-2.1.0%2Bcu121-cp310-cp310-linux_x86_64.whl#sha256=0d4e8c52a1fcf5ed6cfc256d9a370fcf4360958fc79d0b08a51d55e70914df46\n",
            "torchaudio @ https://download.pytorch.org/whl/cu121/torchaudio-2.1.0%2Bcu121-cp310-cp310-linux_x86_64.whl#sha256=676bda4042734eda99bc59b2d7f761f345d3cde0cad492ad34e3aefde688c6d8\n",
            "torchdata==0.7.0\n",
            "torchsummary==1.5.1\n",
            "torchtext==0.16.0\n",
            "torchvision @ https://download.pytorch.org/whl/cu121/torchvision-0.16.0%2Bcu121-cp310-cp310-linux_x86_64.whl#sha256=e76e78d0ad43636c9884b3084ffaea8a8b61f21129fbfa456a5fe734f0affea9\n",
            "tornado==6.3.2\n",
            "tqdm==4.66.2\n",
            "traitlets==5.7.1\n",
            "traittypes==0.2.1\n",
            "transformers==4.38.2\n",
            "triton==2.1.0\n",
            "tweepy==4.14.0\n",
            "typer==0.9.0\n",
            "types-pytz==2024.1.0.20240203\n",
            "types-setuptools==69.1.0.20240302\n",
            "typing_extensions==4.10.0\n",
            "tzlocal==5.2\n",
            "uc-micro-py==1.0.3\n",
            "uritemplate==4.1.1\n",
            "urllib3==2.0.7\n",
            "vega-datasets==0.9.0\n",
            "wadllib==1.3.6\n",
            "wasabi==1.1.2\n",
            "wcwidth==0.2.13\n",
            "weasel==0.3.4\n",
            "webcolors==1.13\n",
            "webencodings==0.5.1\n",
            "websocket-client==1.7.0\n",
            "Werkzeug==3.0.1\n",
            "widgetsnbextension==3.6.6\n",
            "wordcloud==1.9.3\n",
            "wrapt==1.14.1\n",
            "xarray==2023.7.0\n",
            "xarray-einstats==0.7.0\n",
            "xgboost==2.0.3\n",
            "xlrd==2.0.1\n",
            "xxhash==3.4.1\n",
            "xyzservices==2023.10.1\n",
            "yarl==1.9.4\n",
            "yellowbrick==1.5\n",
            "yfinance==0.2.37\n",
            "zict==3.0.0\n",
            "zipp==3.17.0\n"
          ]
        }
      ]
    },
    {
      "cell_type": "markdown",
      "metadata": {
        "id": "BGr4or3pd8Ql"
      },
      "source": [
        "Hola voy a ejecutar el comando ```!pip freeze``` para cotillear a Google Colab"
      ]
    },
    {
      "cell_type": "code",
      "metadata": {
        "id": "76L_IBAfwr5y",
        "colab": {
          "base_uri": "https://localhost:8080/",
          "height": 35
        },
        "outputId": "e49c468f-a63c-4a50-8d57-16958b1ffab4"
      },
      "source": [
        "#Importemos TensorFlow 2.X y Numpy\n",
        "import numpy as np\n",
        "import tensorflow as tf\n",
        "tf.__version__"
      ],
      "execution_count": 2,
      "outputs": [
        {
          "output_type": "execute_result",
          "data": {
            "text/plain": [
              "'2.15.0'"
            ],
            "application/vnd.google.colaboratory.intrinsic+json": {
              "type": "string"
            }
          },
          "metadata": {},
          "execution_count": 2
        }
      ]
    },
    {
      "cell_type": "markdown",
      "metadata": {
        "id": "Cm6TBi8k8pnq"
      },
      "source": [
        "#### **- Cargando el conjunto de datos**"
      ]
    },
    {
      "cell_type": "code",
      "metadata": {
        "id": "Q97EgDoewMWu",
        "colab": {
          "base_uri": "https://localhost:8080/"
        },
        "outputId": "b9a5cb88-596c-4dcd-c935-163313c1f661"
      },
      "source": [
        "# Importar MNIST dataset y cargar los datos\n",
        "mnist = tf.keras.datasets.mnist\n",
        "(X_train, y_train), (X_test, y_test) = mnist.load_data()\n",
        "\n",
        "# Inspeccionamos nuestros datos originales\n",
        "print(X_train.shape)\n",
        "print(y_train.shape)\n",
        "print(X_test.shape)\n",
        "print(y_test.shape)\n",
        "\n",
        "# Inspeccionamos y_test\n",
        "print(y_test[0:20]) # Formato categorico.\n",
        "\n",
        "# X -> gato ; C = {perros: 0, gatos: 1, sillas: 2, ordenadores: 3}\n",
        "# silla: Categorico ->       [2]\n",
        "# gato:  One-hot-encoding -> [0, 0, 1, 0]\n",
        "\n",
        "# ¿Qué output nos dará la red? -> [0.20, 0.30, 0.5, 0.0]\n",
        "# Loss (a minimizar) -> error = mean([0 - 0.20, 0-0.30,1-0.5, 0.00]^2)\n",
        "\n"
      ],
      "execution_count": 33,
      "outputs": [
        {
          "output_type": "stream",
          "name": "stdout",
          "text": [
            "(60000, 28, 28)\n",
            "(60000,)\n",
            "(10000, 28, 28)\n",
            "(10000,)\n",
            "[7 2 1 0 4 1 4 9 5 9 0 6 9 0 1 5 9 7 3 4]\n"
          ]
        }
      ]
    },
    {
      "cell_type": "markdown",
      "metadata": {
        "id": "UHWTjTJe80h7"
      },
      "source": [
        "#### **- Inspeccionando el conjunto de datos**"
      ]
    },
    {
      "cell_type": "code",
      "metadata": {
        "id": "yQydjXExS1hI",
        "colab": {
          "base_uri": "https://localhost:8080/",
          "height": 428
        },
        "outputId": "b8dba14a-4bec-46d2-ed7a-09a51a0e857e"
      },
      "source": [
        "import matplotlib.pyplot as plt\n",
        "\n",
        "# Función auxiliar\n",
        "def display_digit(X_train, y_train, num):\n",
        "  image = X_train[num, :, :]\n",
        "  label = y_train[num]\n",
        "  # Visualizamos\n",
        "  plt.title(\"Etiqueta: \" + str(label))\n",
        "  plt.imshow(image, cmap=plt.get_cmap(\"gray_r\"))\n",
        "  plt.axis(\"off\")\n",
        "  plt.show()\n",
        "\n",
        "display_digit(X_train=X_train, y_train=y_train, num=1200)\n",
        "\n"
      ],
      "execution_count": 34,
      "outputs": [
        {
          "output_type": "display_data",
          "data": {
            "text/plain": [
              "<Figure size 640x480 with 1 Axes>"
            ],
            "image/png": "[encoded data removed]"
          },
          "metadata": {}
        }
      ]
    },
    {
      "cell_type": "markdown",
      "metadata": {
        "id": "meo3FjAr85We"
      },
      "source": [
        "#### **- Acondicionando el conjunto de datos**"
      ]
    },
    {
      "cell_type": "code",
      "metadata": {
        "id": "erZKA-oWj85E",
        "colab": {
          "base_uri": "https://localhost:8080/"
        },
        "outputId": "6dd87d70-c93a-48c2-a39b-fd94932f73df"
      },
      "source": [
        "from tensorflow.keras.utils import to_categorical\n",
        "from sklearn.model_selection import train_test_split\n",
        "\n",
        "# Estandarizar los datos\n",
        "X_train_n, X_test_n = X_train/255, X_test/255 # Valores entre 0 y 1\n",
        "\n",
        "# Pasar los datos a one-hot-encoding\n",
        "y_train_ohe = to_categorical(y_train, num_classes=10)\n",
        "y_test_ohe = to_categorical(y_test, num_classes=10)\n",
        "print(y_train_ohe.shape)\n",
        "print(y_test_ohe.shape)\n",
        "print(y_train_ohe[12000, :])\n",
        "\n",
        "# Partición de los datos: train -> train + validación\n",
        "X_train_n_tr, X_train_n_val, y_train_ohe_tr, y_train_ohe_val  = train_test_split(\n",
        "    X_train_n, y_train_ohe, test_size=0.15, random_state=42)\n",
        "print(X_train_n_tr.shape)\n",
        "print(X_train_n_val.shape)\n",
        "print(y_train_ohe_tr.shape)\n",
        "print(y_train_ohe_val.shape)"
      ],
      "execution_count": 35,
      "outputs": [
        {
          "output_type": "stream",
          "name": "stdout",
          "text": [
            "(60000, 10)\n",
            "(10000, 10)\n",
            "[0. 0. 0. 0. 0. 0. 0. 1. 0. 0.]\n",
            "(51000, 28, 28)\n",
            "(9000, 28, 28)\n",
            "(51000, 10)\n",
            "(9000, 10)\n"
          ]
        }
      ]
    },
    {
      "cell_type": "markdown",
      "metadata": {
        "id": "YBO56FZh89P3"
      },
      "source": [
        "#### **- Creando la topología de Red Neuronal (MLP) y entrenándola**"
      ]
    },
    {
      "cell_type": "code",
      "metadata": {
        "id": "y0x4icp30SGE",
        "colab": {
          "base_uri": "https://localhost:8080/"
        },
        "outputId": "c22f3af8-733f-4655-96b2-25a67b5107b5"
      },
      "source": [
        "# Importar api sequencial\n",
        "from tensorflow.keras.models import Sequential\n",
        "# Importar layers necesarios\n",
        "from tensorflow.keras.layers import Dense, Flatten\n",
        "\n",
        "# Creamos nuestra arquitectura de red:\n",
        "model = Sequential()\n",
        "model.add(Flatten(input_shape=(28,28)))\n",
        "model.add(Dense(512, activation=\"relu\"))\n",
        "model.add(Dense(10, activation=\"softmax\")) # (cuando toque) \"sigmoid\"\n",
        "model.summary()\n",
        "\n",
        "# Cada neurona de dense_1 784 pesos + 1 bias\n",
        "# ¿Cuántos parametros tiene dense_1? -> 512*784 + 512*1 = 401,920\n"
      ],
      "execution_count": 36,
      "outputs": [
        {
          "output_type": "stream",
          "name": "stdout",
          "text": [
            "Model: \"sequential_3\"\n",
            "_________________________________________________________________\n",
            " Layer (type)                Output Shape              Param #   \n",
            "=================================================================\n",
            " flatten_3 (Flatten)         (None, 784)               0         \n",
            "                                                                 \n",
            " dense_3 (Dense)             (None, 512)               401920    \n",
            "                                                                 \n",
            " dense_4 (Dense)             (None, 10)                5130      \n",
            "                                                                 \n",
            "=================================================================\n",
            "Total params: 407050 (1.55 MB)\n",
            "Trainable params: 407050 (1.55 MB)\n",
            "Non-trainable params: 0 (0.00 Byte)\n",
            "_________________________________________________________________\n"
          ]
        }
      ]
    },
    {
      "cell_type": "code",
      "source": [
        "# Importamos optimizadores a emplear\n",
        "from tensorflow.keras.optimizers import SGD, Adam, Adagrad\n",
        "# Compilación del modelo: especificar función de pérdidas (a minimizar) + optimizador\n",
        "lr = 0.005\n",
        "model.compile(loss=\"categorical_crossentropy\", optimizer=SGD(lr),\n",
        "              metrics=[\"accuracy\"]) # \"binary_crossentropy\"\n",
        "\n",
        "# Acerca de funciones de activación + funciones de pérdida:\n",
        "\n",
        "# NOTACION Y PRE-ACTIVACION\n",
        "# y = [0, 0, 0, 1, 0] ; c = [0, 1, 2, 3, 4]\n",
        "# Predicción: yhat = [0, 0.1, 0.2, 0.7, 0.0]\n",
        "# yhat_logit (antes de la activación) = [-10, -23, -23, 10, 1]\n",
        "\n",
        "# FUNCIONES DE ACTIVACION\n",
        "# Sigmoide: yhat = 1/(1+exp(-yhat_logit_c))\n",
        "# Softmax: yhat = exp(yhat_logit_c)/sum_cc(exp(yhat_logit_cc))\n",
        "\n",
        "# FUNCIONES DE COSTE -> Clasificacion se emplea entropia cruzada H(y,yhat)\n",
        "# Categorical Cross entropy - SI EMPLEAMOS SOFTMAX\n",
        "# Hcat = - sum_c(y_c*log(yhat_c)) -> - 1 * log(0.7)\n",
        "# Binary cross entropy - SI EMPLEAMOS SIGMOID\n",
        "# Hbin = - sum_c( y_c*log(yhat) + (1-y_c)*log(1-yhat_c) )\n",
        "\n",
        "# ¿Cuándo emplear cada función/activación?\n",
        "# 1) Multi-clase y=[0, 0, 0, 1, 0]\n",
        "#     - Más empleado: softmax + categorical_cross-entropy\n",
        "#     - ¿Se podría emplear sigmoid? SI PERO utilizamos binary_cross_entropy\n",
        "#     - Si utilizamos softmax, ¿Se puede utilizar binary_cross_entropy?\n",
        "# 2) Multi-etiqueta y=[0, 1, 0, 1, 0]\n",
        "#   yhat_logit (antes de la activación) = [-10, 20, -23, 20, -20]\n",
        "#   MAL:  A) SOFTMAX  yhat = [0, 0.5, 0, 0.5, 0]\n",
        "#   BIEN: B) SIGMOID  yhat = [0, 1, 0, 1, 0]\n",
        "#   BIEN: Función de coste: binary cross entropy\n",
        "\n"
      ],
      "metadata": {
        "id": "G6s_dYehWuFj"
      },
      "execution_count": 37,
      "outputs": []
    },
    {
      "cell_type": "code",
      "source": [
        "# Entrenamiento\n",
        "print(\"[INFO]: Entrenando red neuronal...\")\n",
        "epochs, batch_size = 50, 128\n",
        "H = model.fit(X_train_n_tr, y_train_ohe_tr,\n",
        "              validation_data=(X_train_n_val, y_train_ohe_val),\n",
        "              epochs=epochs, batch_size=batch_size)"
      ],
      "metadata": {
        "colab": {
          "base_uri": "https://localhost:8080/"
        },
        "id": "N7he71iiX2sw",
        "outputId": "506a2c58-b0eb-4706-d0f7-d043d0124da4"
      },
      "execution_count": 38,
      "outputs": [
        {
          "output_type": "stream",
          "name": "stdout",
          "text": [
            "[INFO]: Entrenando red neuronal...\n",
            "Epoch 1/50\n",
            "399/399 [==============================] - 3s 4ms/step - loss: 1.5522 - accuracy: 0.6461 - val_loss: 1.0227 - val_accuracy: 0.8027\n",
            "Epoch 2/50\n",
            "399/399 [==============================] - 2s 4ms/step - loss: 0.8169 - accuracy: 0.8309 - val_loss: 0.6838 - val_accuracy: 0.8437\n",
            "Epoch 3/50\n",
            "399/399 [==============================] - 2s 4ms/step - loss: 0.6092 - accuracy: 0.8585 - val_loss: 0.5555 - val_accuracy: 0.8649\n",
            "Epoch 4/50\n",
            "399/399 [==============================] - 1s 3ms/step - loss: 0.5171 - accuracy: 0.8730 - val_loss: 0.4875 - val_accuracy: 0.8749\n",
            "Epoch 5/50\n",
            "399/399 [==============================] - 2s 4ms/step - loss: 0.4644 - accuracy: 0.8816 - val_loss: 0.4452 - val_accuracy: 0.8821\n",
            "Epoch 6/50\n",
            "399/399 [==============================] - 2s 5ms/step - loss: 0.4297 - accuracy: 0.8876 - val_loss: 0.4156 - val_accuracy: 0.8881\n",
            "Epoch 7/50\n",
            "399/399 [==============================] - 1s 4ms/step - loss: 0.4047 - accuracy: 0.8925 - val_loss: 0.3938 - val_accuracy: 0.8944\n",
            "Epoch 8/50\n",
            "399/399 [==============================] - 1s 4ms/step - loss: 0.3855 - accuracy: 0.8963 - val_loss: 0.3771 - val_accuracy: 0.8970\n",
            "Epoch 9/50\n",
            "399/399 [==============================] - 1s 4ms/step - loss: 0.3702 - accuracy: 0.9000 - val_loss: 0.3630 - val_accuracy: 0.9012\n",
            "Epoch 10/50\n",
            "399/399 [==============================] - 2s 4ms/step - loss: 0.3575 - accuracy: 0.9025 - val_loss: 0.3509 - val_accuracy: 0.9032\n",
            "Epoch 11/50\n",
            "399/399 [==============================] - 1s 4ms/step - loss: 0.3467 - accuracy: 0.9047 - val_loss: 0.3408 - val_accuracy: 0.9047\n",
            "Epoch 12/50\n",
            "399/399 [==============================] - 2s 4ms/step - loss: 0.3372 - accuracy: 0.9066 - val_loss: 0.3324 - val_accuracy: 0.9082\n",
            "Epoch 13/50\n",
            "399/399 [==============================] - 2s 5ms/step - loss: 0.3289 - accuracy: 0.9090 - val_loss: 0.3245 - val_accuracy: 0.9107\n",
            "Epoch 14/50\n",
            "399/399 [==============================] - 2s 5ms/step - loss: 0.3214 - accuracy: 0.9115 - val_loss: 0.3174 - val_accuracy: 0.9120\n",
            "Epoch 15/50\n",
            "399/399 [==============================] - 1s 4ms/step - loss: 0.3146 - accuracy: 0.9130 - val_loss: 0.3114 - val_accuracy: 0.9131\n",
            "Epoch 16/50\n",
            "399/399 [==============================] - 1s 4ms/step - loss: 0.3084 - accuracy: 0.9142 - val_loss: 0.3054 - val_accuracy: 0.9164\n",
            "Epoch 17/50\n",
            "399/399 [==============================] - 1s 4ms/step - loss: 0.3026 - accuracy: 0.9161 - val_loss: 0.2997 - val_accuracy: 0.9167\n",
            "Epoch 18/50\n",
            "399/399 [==============================] - 2s 4ms/step - loss: 0.2973 - accuracy: 0.9176 - val_loss: 0.2951 - val_accuracy: 0.9186\n",
            "Epoch 19/50\n",
            "399/399 [==============================] - 2s 4ms/step - loss: 0.2922 - accuracy: 0.9190 - val_loss: 0.2902 - val_accuracy: 0.9207\n",
            "Epoch 20/50\n",
            "399/399 [==============================] - 1s 4ms/step - loss: 0.2875 - accuracy: 0.9199 - val_loss: 0.2863 - val_accuracy: 0.9210\n",
            "Epoch 21/50\n",
            "399/399 [==============================] - 2s 5ms/step - loss: 0.2830 - accuracy: 0.9216 - val_loss: 0.2819 - val_accuracy: 0.9228\n",
            "Epoch 22/50\n",
            "399/399 [==============================] - 2s 4ms/step - loss: 0.2787 - accuracy: 0.9226 - val_loss: 0.2779 - val_accuracy: 0.9232\n",
            "Epoch 23/50\n",
            "399/399 [==============================] - 1s 4ms/step - loss: 0.2747 - accuracy: 0.9240 - val_loss: 0.2739 - val_accuracy: 0.9242\n",
            "Epoch 24/50\n",
            "399/399 [==============================] - 1s 4ms/step - loss: 0.2707 - accuracy: 0.9247 - val_loss: 0.2707 - val_accuracy: 0.9260\n",
            "Epoch 25/50\n",
            "399/399 [==============================] - 1s 4ms/step - loss: 0.2670 - accuracy: 0.9258 - val_loss: 0.2669 - val_accuracy: 0.9261\n",
            "Epoch 26/50\n",
            "399/399 [==============================] - 2s 4ms/step - loss: 0.2635 - accuracy: 0.9273 - val_loss: 0.2639 - val_accuracy: 0.9279\n",
            "Epoch 27/50\n",
            "399/399 [==============================] - 2s 4ms/step - loss: 0.2600 - accuracy: 0.9281 - val_loss: 0.2607 - val_accuracy: 0.9276\n",
            "Epoch 28/50\n",
            "399/399 [==============================] - 2s 5ms/step - loss: 0.2567 - accuracy: 0.9287 - val_loss: 0.2573 - val_accuracy: 0.9289\n",
            "Epoch 29/50\n",
            "399/399 [==============================] - 2s 5ms/step - loss: 0.2534 - accuracy: 0.9295 - val_loss: 0.2544 - val_accuracy: 0.9289\n",
            "Epoch 30/50\n",
            "399/399 [==============================] - 2s 4ms/step - loss: 0.2503 - accuracy: 0.9309 - val_loss: 0.2516 - val_accuracy: 0.9296\n",
            "Epoch 31/50\n",
            "399/399 [==============================] - 2s 4ms/step - loss: 0.2473 - accuracy: 0.9316 - val_loss: 0.2491 - val_accuracy: 0.9302\n",
            "Epoch 32/50\n",
            "399/399 [==============================] - 2s 4ms/step - loss: 0.2443 - accuracy: 0.9325 - val_loss: 0.2463 - val_accuracy: 0.9307\n",
            "Epoch 33/50\n",
            "399/399 [==============================] - 2s 4ms/step - loss: 0.2415 - accuracy: 0.9333 - val_loss: 0.2436 - val_accuracy: 0.9320\n",
            "Epoch 34/50\n",
            "399/399 [==============================] - 1s 4ms/step - loss: 0.2387 - accuracy: 0.9342 - val_loss: 0.2411 - val_accuracy: 0.9320\n",
            "Epoch 35/50\n",
            "399/399 [==============================] - 2s 4ms/step - loss: 0.2360 - accuracy: 0.9348 - val_loss: 0.2386 - val_accuracy: 0.9338\n",
            "Epoch 36/50\n",
            "399/399 [==============================] - 2s 6ms/step - loss: 0.2334 - accuracy: 0.9357 - val_loss: 0.2363 - val_accuracy: 0.9348\n",
            "Epoch 37/50\n",
            "399/399 [==============================] - 2s 4ms/step - loss: 0.2308 - accuracy: 0.9361 - val_loss: 0.2338 - val_accuracy: 0.9350\n",
            "Epoch 38/50\n",
            "399/399 [==============================] - 2s 4ms/step - loss: 0.2284 - accuracy: 0.9370 - val_loss: 0.2315 - val_accuracy: 0.9359\n",
            "Epoch 39/50\n",
            "399/399 [==============================] - 1s 4ms/step - loss: 0.2259 - accuracy: 0.9376 - val_loss: 0.2294 - val_accuracy: 0.9362\n",
            "Epoch 40/50\n",
            "399/399 [==============================] - 1s 4ms/step - loss: 0.2235 - accuracy: 0.9384 - val_loss: 0.2270 - val_accuracy: 0.9372\n",
            "Epoch 41/50\n",
            "399/399 [==============================] - 2s 4ms/step - loss: 0.2211 - accuracy: 0.9393 - val_loss: 0.2253 - val_accuracy: 0.9379\n",
            "Epoch 42/50\n",
            "399/399 [==============================] - 1s 4ms/step - loss: 0.2188 - accuracy: 0.9398 - val_loss: 0.2228 - val_accuracy: 0.9384\n",
            "Epoch 43/50\n",
            "399/399 [==============================] - 2s 5ms/step - loss: 0.2165 - accuracy: 0.9404 - val_loss: 0.2211 - val_accuracy: 0.9384\n",
            "Epoch 44/50\n",
            "399/399 [==============================] - 2s 5ms/step - loss: 0.2144 - accuracy: 0.9412 - val_loss: 0.2188 - val_accuracy: 0.9402\n",
            "Epoch 45/50\n",
            "399/399 [==============================] - 2s 4ms/step - loss: 0.2123 - accuracy: 0.9415 - val_loss: 0.2169 - val_accuracy: 0.9406\n",
            "Epoch 46/50\n",
            "399/399 [==============================] - 1s 4ms/step - loss: 0.2102 - accuracy: 0.9422 - val_loss: 0.2151 - val_accuracy: 0.9410\n",
            "Epoch 47/50\n",
            "399/399 [==============================] - 2s 4ms/step - loss: 0.2082 - accuracy: 0.9427 - val_loss: 0.2133 - val_accuracy: 0.9417\n",
            "Epoch 48/50\n",
            "399/399 [==============================] - 1s 4ms/step - loss: 0.2062 - accuracy: 0.9434 - val_loss: 0.2116 - val_accuracy: 0.9416\n",
            "Epoch 49/50\n",
            "399/399 [==============================] - 1s 4ms/step - loss: 0.2042 - accuracy: 0.9442 - val_loss: 0.2100 - val_accuracy: 0.9424\n",
            "Epoch 50/50\n",
            "399/399 [==============================] - 1s 4ms/step - loss: 0.2022 - accuracy: 0.9447 - val_loss: 0.2081 - val_accuracy: 0.9433\n"
          ]
        }
      ]
    },
    {
      "cell_type": "markdown",
      "metadata": {
        "id": "EtR8fpxq9JRG"
      },
      "source": [
        "#### **- Observando el proceso de entrenamiento para tomar decisiones**"
      ]
    },
    {
      "cell_type": "code",
      "metadata": {
        "id": "R7OoJts-122A",
        "colab": {
          "base_uri": "https://localhost:8080/",
          "height": 477
        },
        "outputId": "6be73017-83da-4e26-f5e9-37cad424e95e"
      },
      "source": [
        "# Visualización curva de aprendizaje\n",
        "def visualiza_learning_curve(H):\n",
        "  plt.style.use(\"ggplot\")\n",
        "  plt.figure()\n",
        "  plt.plot(np.arange(0, len(H.history[\"loss\"])), H.history[\"loss\"], label=\"train_loss\")\n",
        "  plt.plot(np.arange(0, len(H.history[\"loss\"])), H.history[\"val_loss\"], label=\"val_loss\")\n",
        "  plt.plot(np.arange(0, len(H.history[\"loss\"])), H.history[\"accuracy\"], label=\"accuracy\")\n",
        "  plt.plot(np.arange(0, len(H.history[\"loss\"])), H.history[\"val_accuracy\"], label=\"val_accuracy\")\n",
        "  plt.title(\"Training Loss and Accuracy\")\n",
        "  plt.xlabel(\"Epochs#\")\n",
        "  plt.ylabel(\"Train Loss/Accuracy\")\n",
        "  plt.legend()\n",
        "\n",
        "visualiza_learning_curve(H)"
      ],
      "execution_count": 39,
      "outputs": [
        {
          "output_type": "display_data",
          "data": {
            "text/plain": [
              "<Figure size 640x480 with 1 Axes>"
            ],
            "image/png": "[encoded data removed]"
          },
          "metadata": {}
        }
      ]
    },
    {
      "cell_type": "markdown",
      "metadata": {
        "id": "7ll4EzHI9Of5"
      },
      "source": [
        "#### **- Probando el conjunto de datos en el subset de test y evaluando el performance del modelo**"
      ]
    },
    {
      "cell_type": "code",
      "source": [
        "# Testear nuestro modelo\n",
        "from sklearn.metrics import classification_report\n",
        "\n",
        "print(\"[TEST]: Testeando nuestra red...\")\n",
        "yhat_test = model.predict(X_test_n)\n",
        "print(yhat_test.shape)\n",
        "print(np.round(yhat_test[100, :], 2))\n",
        "print(y_test_ohe[100, :])\n",
        "print(classification_report(np.argmax(y_test_ohe, -1),\n",
        "                            np.argmax(yhat_test, -1)\n",
        "                            ))"
      ],
      "metadata": {
        "colab": {
          "base_uri": "https://localhost:8080/"
        },
        "id": "ShGxJma7h8C3",
        "outputId": "d7f14dd0-2660-4951-a296-778910a44ad7"
      },
      "execution_count": 46,
      "outputs": [
        {
          "output_type": "stream",
          "name": "stdout",
          "text": [
            "[TEST]: Testeando nuestra red...\n",
            "313/313 [==============================] - 1s 2ms/step\n",
            "(10000, 10)\n",
            "[0.   0.   0.02 0.   0.   0.   0.97 0.   0.   0.  ]\n",
            "[0. 0. 0. 0. 0. 0. 1. 0. 0. 0.]\n",
            "              precision    recall  f1-score   support\n",
            "\n",
            "           0       0.96      0.98      0.97       980\n",
            "           1       0.98      0.98      0.98      1135\n",
            "           2       0.95      0.93      0.94      1032\n",
            "           3       0.93      0.94      0.93      1010\n",
            "           4       0.93      0.96      0.94       982\n",
            "           5       0.94      0.91      0.93       892\n",
            "           6       0.95      0.96      0.95       958\n",
            "           7       0.95      0.93      0.94      1028\n",
            "           8       0.92      0.92      0.92       974\n",
            "           9       0.92      0.91      0.92      1009\n",
            "\n",
            "    accuracy                           0.94     10000\n",
            "   macro avg       0.94      0.94      0.94     10000\n",
            "weighted avg       0.94      0.94      0.94     10000\n",
            "\n"
          ]
        }
      ]
    },
    {
      "cell_type": "markdown",
      "metadata": {
        "id": "zQ5iYaP4-TdJ"
      },
      "source": [
        "--------------------------------------------------------------------------"
      ]
    },
    {
      "cell_type": "markdown",
      "metadata": {
        "id": "gkAfYEmB-KGU"
      },
      "source": [
        "## **MLP APLICADO A TEXTO: EJEMPLO REUTERS**"
      ]
    },
    {
      "cell_type": "markdown",
      "metadata": {
        "id": "rtdAIq1JQPNA"
      },
      "source": [
        "#### **- Cargando el conjunto de datos**"
      ]
    },
    {
      "cell_type": "code",
      "metadata": {
        "id": "2mHvSYFm-Sp_"
      },
      "source": [],
      "execution_count": null,
      "outputs": []
    },
    {
      "cell_type": "markdown",
      "metadata": {
        "id": "426afMQqQUxn"
      },
      "source": [
        "#### **- Inspeccionando el conjunto de datos**"
      ]
    },
    {
      "cell_type": "code",
      "metadata": {
        "id": "Ab4lT3HI-reW"
      },
      "source": [],
      "execution_count": null,
      "outputs": []
    },
    {
      "cell_type": "markdown",
      "metadata": {
        "id": "Hl1Ke92bQiI2"
      },
      "source": [
        "#### **- Acondicionando el conjunto de datos**"
      ]
    },
    {
      "cell_type": "code",
      "metadata": {
        "id": "4wubOmYpBgAY"
      },
      "source": [],
      "execution_count": null,
      "outputs": []
    },
    {
      "cell_type": "markdown",
      "metadata": {
        "id": "qf2H-OHKQrGN"
      },
      "source": [
        "#### **- Creando la topología de Red Neuronal (MLP) y entrenándola**"
      ]
    },
    {
      "cell_type": "code",
      "metadata": {
        "id": "QSR1GEq0_Ebm"
      },
      "source": [],
      "execution_count": null,
      "outputs": []
    },
    {
      "cell_type": "markdown",
      "metadata": {
        "id": "0WZi4xSxQwGR"
      },
      "source": [
        "#### **- Observando el proceso de entrenamiento para tomar decisiones**"
      ]
    },
    {
      "cell_type": "code",
      "metadata": {
        "id": "0dlv_bkZDVJ7"
      },
      "source": [],
      "execution_count": null,
      "outputs": []
    },
    {
      "cell_type": "markdown",
      "metadata": {
        "id": "c51cfGAQQ2cR"
      },
      "source": [
        "#### **- Probando el conjunto de datos en el subset de test y evaluando el performance del modelo**"
      ]
    },
    {
      "cell_type": "code",
      "metadata": {
        "id": "xVS5SAU5DlHP"
      },
      "source": [],
      "execution_count": null,
      "outputs": []
    },
    {
      "cell_type": "markdown",
      "metadata": {
        "id": "s8kmri-kUYgx"
      },
      "source": [
        "## **REGULARIZACIÓN EN APRENDIZAJE PROFUNDO**"
      ]
    },
    {
      "cell_type": "markdown",
      "metadata": {
        "id": "aqDYEumsUuNU"
      },
      "source": [
        "#### **- Weight regularization L1/L2**"
      ]
    },
    {
      "cell_type": "code",
      "metadata": {
        "id": "BF2YYooRUNph"
      },
      "source": [],
      "execution_count": null,
      "outputs": []
    },
    {
      "cell_type": "markdown",
      "metadata": {
        "id": "FKflRMxEWQ3Z"
      },
      "source": [
        "#### **- Dropout**"
      ]
    },
    {
      "cell_type": "code",
      "metadata": {
        "id": "iRcnwjCCWVcW"
      },
      "source": [],
      "execution_count": null,
      "outputs": []
    },
    {
      "cell_type": "markdown",
      "metadata": {
        "id": "6iixwidpaJSH"
      },
      "source": [
        "## **OTRAS CAPAS**\n",
        "#### **- Batch Normalization**"
      ]
    },
    {
      "cell_type": "code",
      "metadata": {
        "id": "kX7JV1leaJrj"
      },
      "source": [],
      "execution_count": null,
      "outputs": []
    }
  ]
}