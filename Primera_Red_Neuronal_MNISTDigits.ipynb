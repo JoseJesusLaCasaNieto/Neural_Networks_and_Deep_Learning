{
 "cells": [
  {
   "cell_type": "markdown",
   "metadata": {},
   "source": [
    "# Deep Learning Práctica Colab VC02-VC03"
   ]
  },
  {
   "cell_type": "markdown",
   "metadata": {},
   "source": [
    "### Librerías"
   ]
  },
  {
   "cell_type": "code",
   "execution_count": 1,
   "metadata": {},
   "outputs": [],
   "source": [
    "import numpy as np\n",
    "import tensorflow as tf\n"
   ]
  },
  {
   "cell_type": "markdown",
   "metadata": {},
   "source": [
    "### Carga del conjunto de datos"
   ]
  },
  {
   "cell_type": "code",
   "execution_count": 2,
   "metadata": {},
   "outputs": [],
   "source": [
    "mnist = tf.keras.datasets.mnist\n",
    "(X_train, y_train), (X_test, y_test) = mnist.load_data()"
   ]
  },
  {
   "cell_type": "markdown",
   "metadata": {},
   "source": [
    "### Inspección del conjunto de datos"
   ]
  },
  {
   "cell_type": "code",
   "execution_count": 3,
   "metadata": {},
   "outputs": [
    {
     "name": "stdout",
     "output_type": "stream",
     "text": [
      "(60000, 28, 28)\n",
      "(60000,)\n",
      "(10000, 28, 28)\n",
      "(10000,)\n",
      "\n",
      "[7 2 1 0 4 1 4 9 5 9 0 6 9 0 1 5 9 7 3 4]\n"
     ]
    }
   ],
   "source": [
    "# Dimensionalidad\n",
    "print(X_train.shape)\n",
    "print(y_train.shape)\n",
    "print(X_test.shape)\n",
    "print(y_test.shape)\n",
    "\n",
    "# Tipo de etiquetas\n",
    "print()\n",
    "print(y_test[0:20])     # Formato categórico"
   ]
  },
  {
   "cell_type": "code",
   "execution_count": 4,
   "metadata": {},
   "outputs": [
    {
     "data": {
      "image/png": "[encoded data removed]",
      "text/plain": [
       "<Figure size 640x480 with 1 Axes>"
      ]
     },
     "metadata": {},
     "output_type": "display_data"
    }
   ],
   "source": [
    "# Visualización de los datos\n",
    "import matplotlib.pyplot as plt\n",
    "\n",
    "def display_digit(X_train, y_train, number):\n",
    "    image = X_train[number, :, :]\n",
    "    label = y_train[number]\n",
    "    plt.title(\"Etiqueta: \" + str(label))\n",
    "    plt.imshow(image, cmap=plt.cm.binary)\n",
    "    plt.axis(\"off\")\n",
    "    plt.show()\n",
    "\n",
    "display_digit(X_train=X_train, y_train=y_train, number=np.random.randint(0, 60000))"
   ]
  },
  {
   "cell_type": "markdown",
   "metadata": {},
   "source": [
    "### Acondicionamiento del conjunto de datos"
   ]
  },
  {
   "cell_type": "code",
   "execution_count": 5,
   "metadata": {},
   "outputs": [
    {
     "name": "stdout",
     "output_type": "stream",
     "text": [
      "(60000, 10)\n",
      "(10000, 10)\n",
      "\n",
      "Número 0: [1. 0. 0. 0. 0. 0. 0. 0. 0. 0.]\n",
      "\n",
      "(51000, 28, 28)\n",
      "(9000, 28, 28)\n",
      "(51000, 10)\n",
      "(9000, 10)\n"
     ]
    }
   ],
   "source": [
    "from tensorflow.keras.utils import to_categorical\n",
    "from sklearn.model_selection import train_test_split\n",
    "\n",
    "# Estandarización de los datos. Al ser imágenes en blanco y negro (0, 255), se estandariza con 255.\n",
    "X_train_n, X_test_n = X_train/255, X_test/255       # Valores entre 0 y 1.\n",
    "\n",
    "# Pasar las etiquetas a one-hot-encoding.\n",
    "y_train_ohe = to_categorical(y_train, num_classes=10)\n",
    "y_test_ohe = to_categorical(y_test, num_classes=10)\n",
    "print(y_train_ohe.shape)\n",
    "print(y_test_ohe.shape)\n",
    "\n",
    "random_num = np.random.randint(0, 60000)\n",
    "print(f\"\\nNúmero {y_train[random_num]}:\", y_train_ohe[random_num])\n",
    "\n",
    "# Partición de los datos: train -> train + validación\n",
    "X_train_n_tr, X_train_n_val, y_train_ohe_tr, y_train_ohe_val = train_test_split(\n",
    "    X_train_n, y_train_ohe, test_size=0.15, random_state=42)\n",
    "\n",
    "print()\n",
    "print(X_train_n_tr.shape)\n",
    "print(X_train_n_val.shape)\n",
    "print(y_train_ohe_tr.shape)\n",
    "print(y_train_ohe_val.shape)\n"
   ]
  },
  {
   "cell_type": "markdown",
   "metadata": {},
   "source": [
    "### Red Neuronal"
   ]
  },
  {
   "cell_type": "code",
   "execution_count": 6,
   "metadata": {},
   "outputs": [
    {
     "name": "stderr",
     "output_type": "stream",
     "text": [
      "c:\\Users\\pepel\\Desktop\\Formación\\Máster\\Contenido\\Asignaturas\\Redes Neuronales y Deep Learning\\GitHub\\redneur\\Lib\\site-packages\\keras\\src\\layers\\reshaping\\flatten.py:37: UserWarning: Do not pass an `input_shape`/`input_dim` argument to a layer. When using Sequential models, prefer using an `Input(shape)` object as the first layer in the model instead.\n",
      "  super().__init__(**kwargs)\n"
     ]
    },
    {
     "data": {
      "text/html": [
       "<pre style=\"white-space:pre;overflow-x:auto;line-height:normal;font-family:Menlo,'DejaVu Sans Mono',consolas,'Courier New',monospace\"><span style=\"font-weight: bold\">Model: \"sequential\"</span>\n",
       "</pre>\n"
      ],
      "text/plain": [
       "\u001b[1mModel: \"sequential\"\u001b[0m\n"
      ]
     },
     "metadata": {},
     "output_type": "display_data"
    },
    {
     "data": {
      "text/html": [
       "<pre style=\"white-space:pre;overflow-x:auto;line-height:normal;font-family:Menlo,'DejaVu Sans Mono',consolas,'Courier New',monospace\">┏━━━━━━━━━━━━━━━━━━━━━━━━━━━━━━━━━┳━━━━━━━━━━━━━━━━━━━━━━━━┳━━━━━━━━━━━━━━━┓\n",
       "┃<span style=\"font-weight: bold\"> Layer (type)                    </span>┃<span style=\"font-weight: bold\"> Output Shape           </span>┃<span style=\"font-weight: bold\">       Param # </span>┃\n",
       "┡━━━━━━━━━━━━━━━━━━━━━━━━━━━━━━━━━╇━━━━━━━━━━━━━━━━━━━━━━━━╇━━━━━━━━━━━━━━━┩\n",
       "│ flatten (<span style=\"color: #0087ff; text-decoration-color: #0087ff\">Flatten</span>)               │ (<span style=\"color: #00d7ff; text-decoration-color: #00d7ff\">None</span>, <span style=\"color: #00af00; text-decoration-color: #00af00\">784</span>)            │             <span style=\"color: #00af00; text-decoration-color: #00af00\">0</span> │\n",
       "├─────────────────────────────────┼────────────────────────┼───────────────┤\n",
       "│ dense (<span style=\"color: #0087ff; text-decoration-color: #0087ff\">Dense</span>)                   │ (<span style=\"color: #00d7ff; text-decoration-color: #00d7ff\">None</span>, <span style=\"color: #00af00; text-decoration-color: #00af00\">512</span>)            │       <span style=\"color: #00af00; text-decoration-color: #00af00\">401,920</span> │\n",
       "├─────────────────────────────────┼────────────────────────┼───────────────┤\n",
       "│ dense_1 (<span style=\"color: #0087ff; text-decoration-color: #0087ff\">Dense</span>)                 │ (<span style=\"color: #00d7ff; text-decoration-color: #00d7ff\">None</span>, <span style=\"color: #00af00; text-decoration-color: #00af00\">10</span>)             │         <span style=\"color: #00af00; text-decoration-color: #00af00\">5,130</span> │\n",
       "└─────────────────────────────────┴────────────────────────┴───────────────┘\n",
       "</pre>\n"
      ],
      "text/plain": [
       "┏━━━━━━━━━━━━━━━━━━━━━━━━━━━━━━━━━┳━━━━━━━━━━━━━━━━━━━━━━━━┳━━━━━━━━━━━━━━━┓\n",
       "┃\u001b[1m \u001b[0m\u001b[1mLayer (type)                   \u001b[0m\u001b[1m \u001b[0m┃\u001b[1m \u001b[0m\u001b[1mOutput Shape          \u001b[0m\u001b[1m \u001b[0m┃\u001b[1m \u001b[0m\u001b[1m      Param #\u001b[0m\u001b[1m \u001b[0m┃\n",
       "┡━━━━━━━━━━━━━━━━━━━━━━━━━━━━━━━━━╇━━━━━━━━━━━━━━━━━━━━━━━━╇━━━━━━━━━━━━━━━┩\n",
       "│ flatten (\u001b[38;5;33mFlatten\u001b[0m)               │ (\u001b[38;5;45mNone\u001b[0m, \u001b[38;5;34m784\u001b[0m)            │             \u001b[38;5;34m0\u001b[0m │\n",
       "├─────────────────────────────────┼────────────────────────┼───────────────┤\n",
       "│ dense (\u001b[38;5;33mDense\u001b[0m)                   │ (\u001b[38;5;45mNone\u001b[0m, \u001b[38;5;34m512\u001b[0m)            │       \u001b[38;5;34m401,920\u001b[0m │\n",
       "├─────────────────────────────────┼────────────────────────┼───────────────┤\n",
       "│ dense_1 (\u001b[38;5;33mDense\u001b[0m)                 │ (\u001b[38;5;45mNone\u001b[0m, \u001b[38;5;34m10\u001b[0m)             │         \u001b[38;5;34m5,130\u001b[0m │\n",
       "└─────────────────────────────────┴────────────────────────┴───────────────┘\n"
      ]
     },
     "metadata": {},
     "output_type": "display_data"
    },
    {
     "data": {
      "text/html": [
       "<pre style=\"white-space:pre;overflow-x:auto;line-height:normal;font-family:Menlo,'DejaVu Sans Mono',consolas,'Courier New',monospace\"><span style=\"font-weight: bold\"> Total params: </span><span style=\"color: #00af00; text-decoration-color: #00af00\">407,050</span> (1.55 MB)\n",
       "</pre>\n"
      ],
      "text/plain": [
       "\u001b[1m Total params: \u001b[0m\u001b[38;5;34m407,050\u001b[0m (1.55 MB)\n"
      ]
     },
     "metadata": {},
     "output_type": "display_data"
    },
    {
     "data": {
      "text/html": [
       "<pre style=\"white-space:pre;overflow-x:auto;line-height:normal;font-family:Menlo,'DejaVu Sans Mono',consolas,'Courier New',monospace\"><span style=\"font-weight: bold\"> Trainable params: </span><span style=\"color: #00af00; text-decoration-color: #00af00\">407,050</span> (1.55 MB)\n",
       "</pre>\n"
      ],
      "text/plain": [
       "\u001b[1m Trainable params: \u001b[0m\u001b[38;5;34m407,050\u001b[0m (1.55 MB)\n"
      ]
     },
     "metadata": {},
     "output_type": "display_data"
    },
    {
     "data": {
      "text/html": [
       "<pre style=\"white-space:pre;overflow-x:auto;line-height:normal;font-family:Menlo,'DejaVu Sans Mono',consolas,'Courier New',monospace\"><span style=\"font-weight: bold\"> Non-trainable params: </span><span style=\"color: #00af00; text-decoration-color: #00af00\">0</span> (0.00 B)\n",
       "</pre>\n"
      ],
      "text/plain": [
       "\u001b[1m Non-trainable params: \u001b[0m\u001b[38;5;34m0\u001b[0m (0.00 B)\n"
      ]
     },
     "metadata": {},
     "output_type": "display_data"
    }
   ],
   "source": [
    "# Importar constructor y layers (capas)\n",
    "from tensorflow.keras.models import Sequential\n",
    "from tensorflow.keras.layers import Dense, Flatten\n",
    "\n",
    "# Crear arquitectura de red\n",
    "model = Sequential()\n",
    "model.add(Flatten(input_shape=(28, 28)))\n",
    "model.add(Dense(512, activation='relu'))\n",
    "model.add(Dense(10, activation='softmax'))\n",
    "model.summary()"
   ]
  },
  {
   "cell_type": "code",
   "execution_count": 7,
   "metadata": {},
   "outputs": [],
   "source": [
    "# Optimizadores de la red neuronal\n",
    "from tensorflow.keras.optimizers import SGD, Adam, Adagrad\n",
    "\n",
    "# Compilación del modelo: especificar función de pérdidas (a minimizar) + optimizador.\n",
    "lr = 0.005\n",
    "model.compile(loss='categorical_crossentropy',\n",
    "              optimizer=SGD(learning_rate=lr),\n",
    "              metrics=['accuracy'])"
   ]
  },
  {
   "cell_type": "markdown",
   "metadata": {},
   "source": [
    "(Nota sobre funciones de activación + funciones de pérdida.)\n",
    "\n",
    "- NOTACIÓN Y PRE-ACTIVACIÓN\n",
    "\n",
    "y = [0, 0, 0, 1, 0]; c = [0, 1, 2, 3, 4]\n",
    "\n",
    "Predicción: yhat = [0, 0.1, 0.2, 0.7, 0]\n",
    "\n",
    "yhat_logit (antes de la activación) = [-10, -23, -23, 10, 1]\n",
    "\n",
    "- FUNCIONES DE ACTIVACIÓN\n",
    "\n",
    "Sigmoide: yhat = 1/(1+exp(-yhat_logit_c))\n",
    "\n",
    "Softmax: yhat = exp(yhat_logit_c)/sum_cc(exp(yhat_logit_c))\n",
    "\n",
    "- FUNCIONES DE COSTE -> En clasificación se emplea entropía cruzada H(y, yhat)\n",
    "\n",
    "Categorical Cross Entropy (Requiere que la función de activación sea Softmax):\n",
    "Hcat = -sum_c(y_c * log(yhat)) -> -1 * log(0.7)\n",
    "\n",
    "Binary Cross Entropy (En el caso que la función de activación sea Sigmoid):\n",
    "Hbin = -sum_c(y_c * log(yhat) + (1 - y_c) * log(1-yhat_c))\n",
    "\n",
    "- ¿Cuándo emplear cada función/activación?\n",
    "\n",
    "1) Multi-clase [0, 0, 0, 1, 0]\n",
    "\n",
    "a. Más empleado: softmax + categorical cross_entropy.\n",
    "\n",
    "b. ¿Se podría emplear sigmoid? Sí, pero se utiliza binary cross_entropy como función de coste.\n",
    "\n",
    "c. Si utilizamos softmax, ¿se podría utilizar binary_cross_entropy? Sí se puede porque binary_cross_entropy es más general que categorical cross_entropy.\n",
    "Sin embargo, se hacen operaciones innecesarias, por lo que se recomienda función de activación softmax y función de coste categorical cross_entropy.\n",
    "\n",
    "2) Mult-etiqueta y=[0, 1, 0, 1, 0] (Menos usual)\n",
    "\n",
    "a. Sigmoid y Binary Cross Entropy.\n",
    "\n",
    "b. ¿Se puede utilizar Softmax? No, porque al repartir el valor de las etiquetas entre todos los valores posibles, no alcanzaremos 1 en ninguna etiqueta. Como mucho, podríamos tener [0, 0.5, 0, 0.5, 0].\n",
    "\n"
   ]
  },
  {
   "cell_type": "code",
   "execution_count": 8,
   "metadata": {},
   "outputs": [
    {
     "name": "stdout",
     "output_type": "stream",
     "text": [
      "[INFO] Entrenando red neuronal...\n",
      "Epoch 1/50\n",
      "\u001b[1m340/340\u001b[0m \u001b[32m━━━━━━━━━━━━━━━━━━━━\u001b[0m\u001b[37m\u001b[0m \u001b[1m1s\u001b[0m 2ms/step - accuracy: 0.4426 - loss: 1.9272 - val_accuracy: 0.8017 - val_loss: 1.1017\n",
      "Epoch 2/50\n",
      "\u001b[1m340/340\u001b[0m \u001b[32m━━━━━━━━━━━━━━━━━━━━\u001b[0m\u001b[37m\u001b[0m \u001b[1m1s\u001b[0m 2ms/step - accuracy: 0.8242 - loss: 0.9728 - val_accuracy: 0.8441 - val_loss: 0.7338\n",
      "Epoch 3/50\n",
      "\u001b[1m340/340\u001b[0m \u001b[32m━━━━━━━━━━━━━━━━━━━━\u001b[0m\u001b[37m\u001b[0m \u001b[1m1s\u001b[0m 2ms/step - accuracy: 0.8532 - loss: 0.6884 - val_accuracy: 0.8623 - val_loss: 0.5904\n",
      "Epoch 4/50\n",
      "\u001b[1m340/340\u001b[0m \u001b[32m━━━━━━━━━━━━━━━━━━━━\u001b[0m\u001b[37m\u001b[0m \u001b[1m1s\u001b[0m 2ms/step - accuracy: 0.8684 - loss: 0.5682 - val_accuracy: 0.8734 - val_loss: 0.5153\n",
      "Epoch 5/50\n",
      "\u001b[1m340/340\u001b[0m \u001b[32m━━━━━━━━━━━━━━━━━━━━\u001b[0m\u001b[37m\u001b[0m \u001b[1m1s\u001b[0m 2ms/step - accuracy: 0.8785 - loss: 0.5023 - val_accuracy: 0.8794 - val_loss: 0.4683\n",
      "Epoch 6/50\n",
      "\u001b[1m340/340\u001b[0m \u001b[32m━━━━━━━━━━━━━━━━━━━━\u001b[0m\u001b[37m\u001b[0m \u001b[1m1s\u001b[0m 2ms/step - accuracy: 0.8859 - loss: 0.4546 - val_accuracy: 0.8862 - val_loss: 0.4357\n",
      "Epoch 7/50\n",
      "\u001b[1m340/340\u001b[0m \u001b[32m━━━━━━━━━━━━━━━━━━━━\u001b[0m\u001b[37m\u001b[0m \u001b[1m1s\u001b[0m 2ms/step - accuracy: 0.8905 - loss: 0.4292 - val_accuracy: 0.8904 - val_loss: 0.4122\n",
      "Epoch 8/50\n",
      "\u001b[1m340/340\u001b[0m \u001b[32m━━━━━━━━━━━━━━━━━━━━\u001b[0m\u001b[37m\u001b[0m \u001b[1m1s\u001b[0m 2ms/step - accuracy: 0.8926 - loss: 0.4077 - val_accuracy: 0.8949 - val_loss: 0.3933\n",
      "Epoch 9/50\n",
      "\u001b[1m340/340\u001b[0m \u001b[32m━━━━━━━━━━━━━━━━━━━━\u001b[0m\u001b[37m\u001b[0m \u001b[1m1s\u001b[0m 2ms/step - accuracy: 0.8980 - loss: 0.3875 - val_accuracy: 0.8973 - val_loss: 0.3784\n",
      "Epoch 10/50\n",
      "\u001b[1m340/340\u001b[0m \u001b[32m━━━━━━━━━━━━━━━━━━━━\u001b[0m\u001b[37m\u001b[0m \u001b[1m1s\u001b[0m 2ms/step - accuracy: 0.8983 - loss: 0.3793 - val_accuracy: 0.8999 - val_loss: 0.3656\n",
      "Epoch 11/50\n",
      "\u001b[1m340/340\u001b[0m \u001b[32m━━━━━━━━━━━━━━━━━━━━\u001b[0m\u001b[37m\u001b[0m \u001b[1m1s\u001b[0m 2ms/step - accuracy: 0.9035 - loss: 0.3615 - val_accuracy: 0.9024 - val_loss: 0.3552\n",
      "Epoch 12/50\n",
      "\u001b[1m340/340\u001b[0m \u001b[32m━━━━━━━━━━━━━━━━━━━━\u001b[0m\u001b[37m\u001b[0m \u001b[1m1s\u001b[0m 2ms/step - accuracy: 0.9046 - loss: 0.3517 - val_accuracy: 0.9056 - val_loss: 0.3461\n",
      "Epoch 13/50\n",
      "\u001b[1m340/340\u001b[0m \u001b[32m━━━━━━━━━━━━━━━━━━━━\u001b[0m\u001b[37m\u001b[0m \u001b[1m1s\u001b[0m 2ms/step - accuracy: 0.9051 - loss: 0.3430 - val_accuracy: 0.9076 - val_loss: 0.3382\n",
      "Epoch 14/50\n",
      "\u001b[1m340/340\u001b[0m \u001b[32m━━━━━━━━━━━━━━━━━━━━\u001b[0m\u001b[37m\u001b[0m \u001b[1m1s\u001b[0m 2ms/step - accuracy: 0.9070 - loss: 0.3387 - val_accuracy: 0.9084 - val_loss: 0.3307\n",
      "Epoch 15/50\n",
      "\u001b[1m340/340\u001b[0m \u001b[32m━━━━━━━━━━━━━━━━━━━━\u001b[0m\u001b[37m\u001b[0m \u001b[1m1s\u001b[0m 2ms/step - accuracy: 0.9094 - loss: 0.3301 - val_accuracy: 0.9100 - val_loss: 0.3243\n",
      "Epoch 16/50\n",
      "\u001b[1m340/340\u001b[0m \u001b[32m━━━━━━━━━━━━━━━━━━━━\u001b[0m\u001b[37m\u001b[0m \u001b[1m1s\u001b[0m 2ms/step - accuracy: 0.9093 - loss: 0.3269 - val_accuracy: 0.9123 - val_loss: 0.3185\n",
      "Epoch 17/50\n",
      "\u001b[1m340/340\u001b[0m \u001b[32m━━━━━━━━━━━━━━━━━━━━\u001b[0m\u001b[37m\u001b[0m \u001b[1m1s\u001b[0m 2ms/step - accuracy: 0.9116 - loss: 0.3137 - val_accuracy: 0.9132 - val_loss: 0.3132\n",
      "Epoch 18/50\n",
      "\u001b[1m340/340\u001b[0m \u001b[32m━━━━━━━━━━━━━━━━━━━━\u001b[0m\u001b[37m\u001b[0m \u001b[1m1s\u001b[0m 2ms/step - accuracy: 0.9122 - loss: 0.3136 - val_accuracy: 0.9140 - val_loss: 0.3081\n",
      "Epoch 19/50\n",
      "\u001b[1m340/340\u001b[0m \u001b[32m━━━━━━━━━━━━━━━━━━━━\u001b[0m\u001b[37m\u001b[0m \u001b[1m1s\u001b[0m 2ms/step - accuracy: 0.9148 - loss: 0.3031 - val_accuracy: 0.9162 - val_loss: 0.3034\n",
      "Epoch 20/50\n",
      "\u001b[1m340/340\u001b[0m \u001b[32m━━━━━━━━━━━━━━━━━━━━\u001b[0m\u001b[37m\u001b[0m \u001b[1m1s\u001b[0m 2ms/step - accuracy: 0.9168 - loss: 0.2988 - val_accuracy: 0.9167 - val_loss: 0.2989\n",
      "Epoch 21/50\n",
      "\u001b[1m340/340\u001b[0m \u001b[32m━━━━━━━━━━━━━━━━━━━━\u001b[0m\u001b[37m\u001b[0m \u001b[1m1s\u001b[0m 2ms/step - accuracy: 0.9167 - loss: 0.2997 - val_accuracy: 0.9177 - val_loss: 0.2949\n",
      "Epoch 22/50\n",
      "\u001b[1m340/340\u001b[0m \u001b[32m━━━━━━━━━━━━━━━━━━━━\u001b[0m\u001b[37m\u001b[0m \u001b[1m1s\u001b[0m 2ms/step - accuracy: 0.9186 - loss: 0.2896 - val_accuracy: 0.9193 - val_loss: 0.2910\n",
      "Epoch 23/50\n",
      "\u001b[1m340/340\u001b[0m \u001b[32m━━━━━━━━━━━━━━━━━━━━\u001b[0m\u001b[37m\u001b[0m \u001b[1m1s\u001b[0m 2ms/step - accuracy: 0.9202 - loss: 0.2864 - val_accuracy: 0.9198 - val_loss: 0.2872\n",
      "Epoch 24/50\n",
      "\u001b[1m340/340\u001b[0m \u001b[32m━━━━━━━━━━━━━━━━━━━━\u001b[0m\u001b[37m\u001b[0m \u001b[1m1s\u001b[0m 2ms/step - accuracy: 0.9203 - loss: 0.2878 - val_accuracy: 0.9203 - val_loss: 0.2837\n",
      "Epoch 25/50\n",
      "\u001b[1m340/340\u001b[0m \u001b[32m━━━━━━━━━━━━━━━━━━━━\u001b[0m\u001b[37m\u001b[0m \u001b[1m1s\u001b[0m 2ms/step - accuracy: 0.9217 - loss: 0.2851 - val_accuracy: 0.9208 - val_loss: 0.2802\n",
      "Epoch 26/50\n",
      "\u001b[1m340/340\u001b[0m \u001b[32m━━━━━━━━━━━━━━━━━━━━\u001b[0m\u001b[37m\u001b[0m \u001b[1m1s\u001b[0m 2ms/step - accuracy: 0.9224 - loss: 0.2773 - val_accuracy: 0.9222 - val_loss: 0.2770\n",
      "Epoch 27/50\n",
      "\u001b[1m340/340\u001b[0m \u001b[32m━━━━━━━━━━━━━━━━━━━━\u001b[0m\u001b[37m\u001b[0m \u001b[1m1s\u001b[0m 2ms/step - accuracy: 0.9236 - loss: 0.2719 - val_accuracy: 0.9228 - val_loss: 0.2742\n",
      "Epoch 28/50\n",
      "\u001b[1m340/340\u001b[0m \u001b[32m━━━━━━━━━━━━━━━━━━━━\u001b[0m\u001b[37m\u001b[0m \u001b[1m1s\u001b[0m 2ms/step - accuracy: 0.9241 - loss: 0.2745 - val_accuracy: 0.9231 - val_loss: 0.2711\n",
      "Epoch 29/50\n",
      "\u001b[1m340/340\u001b[0m \u001b[32m━━━━━━━━━━━━━━━━━━━━\u001b[0m\u001b[37m\u001b[0m \u001b[1m1s\u001b[0m 2ms/step - accuracy: 0.9276 - loss: 0.2656 - val_accuracy: 0.9247 - val_loss: 0.2682\n",
      "Epoch 30/50\n",
      "\u001b[1m340/340\u001b[0m \u001b[32m━━━━━━━━━━━━━━━━━━━━\u001b[0m\u001b[37m\u001b[0m \u001b[1m1s\u001b[0m 2ms/step - accuracy: 0.9258 - loss: 0.2696 - val_accuracy: 0.9243 - val_loss: 0.2653\n",
      "Epoch 31/50\n",
      "\u001b[1m340/340\u001b[0m \u001b[32m━━━━━━━━━━━━━━━━━━━━\u001b[0m\u001b[37m\u001b[0m \u001b[1m1s\u001b[0m 2ms/step - accuracy: 0.9280 - loss: 0.2625 - val_accuracy: 0.9261 - val_loss: 0.2626\n",
      "Epoch 32/50\n",
      "\u001b[1m340/340\u001b[0m \u001b[32m━━━━━━━━━━━━━━━━━━━━\u001b[0m\u001b[37m\u001b[0m \u001b[1m1s\u001b[0m 2ms/step - accuracy: 0.9294 - loss: 0.2563 - val_accuracy: 0.9263 - val_loss: 0.2597\n",
      "Epoch 33/50\n",
      "\u001b[1m340/340\u001b[0m \u001b[32m━━━━━━━━━━━━━━━━━━━━\u001b[0m\u001b[37m\u001b[0m \u001b[1m1s\u001b[0m 2ms/step - accuracy: 0.9296 - loss: 0.2582 - val_accuracy: 0.9261 - val_loss: 0.2573\n",
      "Epoch 34/50\n",
      "\u001b[1m340/340\u001b[0m \u001b[32m━━━━━━━━━━━━━━━━━━━━\u001b[0m\u001b[37m\u001b[0m \u001b[1m1s\u001b[0m 2ms/step - accuracy: 0.9300 - loss: 0.2556 - val_accuracy: 0.9273 - val_loss: 0.2546\n",
      "Epoch 35/50\n",
      "\u001b[1m340/340\u001b[0m \u001b[32m━━━━━━━━━━━━━━━━━━━━\u001b[0m\u001b[37m\u001b[0m \u001b[1m1s\u001b[0m 2ms/step - accuracy: 0.9312 - loss: 0.2513 - val_accuracy: 0.9277 - val_loss: 0.2524\n",
      "Epoch 36/50\n",
      "\u001b[1m340/340\u001b[0m \u001b[32m━━━━━━━━━━━━━━━━━━━━\u001b[0m\u001b[37m\u001b[0m \u001b[1m1s\u001b[0m 2ms/step - accuracy: 0.9314 - loss: 0.2497 - val_accuracy: 0.9286 - val_loss: 0.2504\n",
      "Epoch 37/50\n",
      "\u001b[1m340/340\u001b[0m \u001b[32m━━━━━━━━━━━━━━━━━━━━\u001b[0m\u001b[37m\u001b[0m \u001b[1m1s\u001b[0m 2ms/step - accuracy: 0.9351 - loss: 0.2430 - val_accuracy: 0.9289 - val_loss: 0.2475\n",
      "Epoch 38/50\n",
      "\u001b[1m340/340\u001b[0m \u001b[32m━━━━━━━━━━━━━━━━━━━━\u001b[0m\u001b[37m\u001b[0m \u001b[1m1s\u001b[0m 2ms/step - accuracy: 0.9322 - loss: 0.2458 - val_accuracy: 0.9296 - val_loss: 0.2452\n",
      "Epoch 39/50\n",
      "\u001b[1m340/340\u001b[0m \u001b[32m━━━━━━━━━━━━━━━━━━━━\u001b[0m\u001b[37m\u001b[0m \u001b[1m1s\u001b[0m 2ms/step - accuracy: 0.9331 - loss: 0.2428 - val_accuracy: 0.9301 - val_loss: 0.2433\n",
      "Epoch 40/50\n",
      "\u001b[1m340/340\u001b[0m \u001b[32m━━━━━━━━━━━━━━━━━━━━\u001b[0m\u001b[37m\u001b[0m \u001b[1m1s\u001b[0m 2ms/step - accuracy: 0.9353 - loss: 0.2374 - val_accuracy: 0.9309 - val_loss: 0.2411\n",
      "Epoch 41/50\n",
      "\u001b[1m340/340\u001b[0m \u001b[32m━━━━━━━━━━━━━━━━━━━━\u001b[0m\u001b[37m\u001b[0m \u001b[1m1s\u001b[0m 2ms/step - accuracy: 0.9364 - loss: 0.2330 - val_accuracy: 0.9306 - val_loss: 0.2391\n",
      "Epoch 42/50\n",
      "\u001b[1m340/340\u001b[0m \u001b[32m━━━━━━━━━━━━━━━━━━━━\u001b[0m\u001b[37m\u001b[0m \u001b[1m1s\u001b[0m 2ms/step - accuracy: 0.9351 - loss: 0.2396 - val_accuracy: 0.9312 - val_loss: 0.2374\n",
      "Epoch 43/50\n",
      "\u001b[1m340/340\u001b[0m \u001b[32m━━━━━━━━━━━━━━━━━━━━\u001b[0m\u001b[37m\u001b[0m \u001b[1m1s\u001b[0m 2ms/step - accuracy: 0.9360 - loss: 0.2322 - val_accuracy: 0.9323 - val_loss: 0.2348\n",
      "Epoch 44/50\n",
      "\u001b[1m340/340\u001b[0m \u001b[32m━━━━━━━━━━━━━━━━━━━━\u001b[0m\u001b[37m\u001b[0m \u001b[1m1s\u001b[0m 2ms/step - accuracy: 0.9366 - loss: 0.2292 - val_accuracy: 0.9330 - val_loss: 0.2328\n",
      "Epoch 45/50\n",
      "\u001b[1m340/340\u001b[0m \u001b[32m━━━━━━━━━━━━━━━━━━━━\u001b[0m\u001b[37m\u001b[0m \u001b[1m1s\u001b[0m 2ms/step - accuracy: 0.9390 - loss: 0.2259 - val_accuracy: 0.9337 - val_loss: 0.2312\n",
      "Epoch 46/50\n",
      "\u001b[1m340/340\u001b[0m \u001b[32m━━━━━━━━━━━━━━━━━━━━\u001b[0m\u001b[37m\u001b[0m \u001b[1m1s\u001b[0m 2ms/step - accuracy: 0.9364 - loss: 0.2288 - val_accuracy: 0.9336 - val_loss: 0.2293\n",
      "Epoch 47/50\n",
      "\u001b[1m340/340\u001b[0m \u001b[32m━━━━━━━━━━━━━━━━━━━━\u001b[0m\u001b[37m\u001b[0m \u001b[1m1s\u001b[0m 2ms/step - accuracy: 0.9389 - loss: 0.2250 - val_accuracy: 0.9341 - val_loss: 0.2271\n",
      "Epoch 48/50\n",
      "\u001b[1m340/340\u001b[0m \u001b[32m━━━━━━━━━━━━━━━━━━━━\u001b[0m\u001b[37m\u001b[0m \u001b[1m1s\u001b[0m 2ms/step - accuracy: 0.9403 - loss: 0.2176 - val_accuracy: 0.9352 - val_loss: 0.2254\n",
      "Epoch 49/50\n",
      "\u001b[1m340/340\u001b[0m \u001b[32m━━━━━━━━━━━━━━━━━━━━\u001b[0m\u001b[37m\u001b[0m \u001b[1m1s\u001b[0m 2ms/step - accuracy: 0.9392 - loss: 0.2218 - val_accuracy: 0.9357 - val_loss: 0.2236\n",
      "Epoch 50/50\n",
      "\u001b[1m340/340\u001b[0m \u001b[32m━━━━━━━━━━━━━━━━━━━━\u001b[0m\u001b[37m\u001b[0m \u001b[1m1s\u001b[0m 2ms/step - accuracy: 0.9413 - loss: 0.2154 - val_accuracy: 0.9363 - val_loss: 0.2219\n"
     ]
    }
   ],
   "source": [
    "# Entrenamiento del modelo\n",
    "print(\"[INFO] Entrenando red neuronal...\")\n",
    "epochs, batch_size = 50, 150\n",
    "H = model.fit(X_train_n_tr, y_train_ohe_tr,\n",
    "              validation_data=(X_train_n_val, y_train_ohe_val),\n",
    "              epochs=epochs, batch_size=batch_size)"
   ]
  },
  {
   "cell_type": "markdown",
   "metadata": {},
   "source": [
    "### Observar el proceso de entrenamiento para la toma de decisiones"
   ]
  },
  {
   "cell_type": "code",
   "execution_count": 9,
   "metadata": {},
   "outputs": [
    {
     "data": {
      "image/png": "[encoded data removed]",
      "text/plain": [
       "<Figure size 640x480 with 1 Axes>"
      ]
     },
     "metadata": {},
     "output_type": "display_data"
    }
   ],
   "source": [
    "# Visualizar la curva de aprendizaje\n",
    "def visualize_learning_curve(H):\n",
    "    plt.style.use(\"ggplot\")\n",
    "    plt.figure()\n",
    "    plt.plot(np.arange(0, len(H.history['loss'])), H.history['loss'], label='train_loss')\n",
    "    plt.plot(np.arange(0, len(H.history['loss'])), H.history['val_loss'], label='val_loss')\n",
    "    plt.plot(np.arange(0, len(H.history['loss'])), H.history['accuracy'], label='accuracy')\n",
    "    plt.plot(np.arange(0, len(H.history['loss'])), H.history['val_accuracy'], label='val_accuracy')\n",
    "    plt.title('Training Loss and Accuracy')\n",
    "    plt.xlabel(\"Epochs\")\n",
    "    plt.ylabel(\"Train Loss / Accuracy\")     # No es recomendable pintar el accuracy y la función de pérdidas en el mismo plot, porque las escalas son distintas.\n",
    "    plt.legend()\n",
    "    plt.show()\n",
    "\n",
    "visualize_learning_curve(H)"
   ]
  },
  {
   "cell_type": "code",
   "execution_count": 16,
   "metadata": {},
   "outputs": [
    {
     "name": "stdout",
     "output_type": "stream",
     "text": [
      "[TEST]: Testeando nuestra red...\n",
      "\u001b[1m313/313\u001b[0m \u001b[32m━━━━━━━━━━━━━━━━━━━━\u001b[0m\u001b[37m\u001b[0m \u001b[1m0s\u001b[0m 651us/step\n",
      "\n",
      "(10000, 10)\n",
      "Etiqueta 7: [0.   0.   0.   0.01 0.   0.   0.   0.98 0.   0.  ]\n"
     ]
    }
   ],
   "source": [
    "# Testeo del modelo\n",
    "print(\"[TEST]: Testeando nuestra red...\")\n",
    "yhat_test = model.predict(X_test_n)     # Sólo va a realizar el forward, porque nos proporciona un resultado.\n",
    "\n",
    "print()\n",
    "print(yhat_test.shape)\n",
    "random_label = np.random.randint(0, 10000)\n",
    "print(f\"Etiqueta {y_test[random_label]}: {np.round(yhat_test[random_label, :], 2)}\")"
   ]
  },
  {
   "cell_type": "code",
   "execution_count": 17,
   "metadata": {},
   "outputs": [
    {
     "name": "stdout",
     "output_type": "stream",
     "text": [
      "              precision    recall  f1-score   support\n",
      "\n",
      "           0       0.95      0.98      0.97       980\n",
      "           1       0.98      0.98      0.98      1135\n",
      "           2       0.94      0.92      0.93      1032\n",
      "           3       0.92      0.93      0.93      1010\n",
      "           4       0.94      0.95      0.94       982\n",
      "           5       0.94      0.90      0.92       892\n",
      "           6       0.94      0.96      0.95       958\n",
      "           7       0.94      0.93      0.94      1028\n",
      "           8       0.91      0.91      0.91       974\n",
      "           9       0.93      0.91      0.92      1009\n",
      "\n",
      "    accuracy                           0.94     10000\n",
      "   macro avg       0.94      0.94      0.94     10000\n",
      "weighted avg       0.94      0.94      0.94     10000\n",
      "\n"
     ]
    }
   ],
   "source": [
    "# Obtener métricas de testing\n",
    "from sklearn.metrics import classification_report\n",
    "\n",
    "print(classification_report(np.argmax(y_test_ohe, -1), np.argmax(yhat_test, -1)))"
   ]
  }
 ],
 "metadata": {
  "kernelspec": {
   "display_name": "redneur",
   "language": "python",
   "name": "python3"
  },
  "language_info": {
   "codemirror_mode": {
    "name": "ipython",
    "version": 3
   },
   "file_extension": ".py",
   "mimetype": "text/x-python",
   "name": "python",
   "nbconvert_exporter": "python",
   "pygments_lexer": "ipython3",
   "version": "3.11.6"
  }
 },
 "nbformat": 4,
 "nbformat_minor": 2
}
